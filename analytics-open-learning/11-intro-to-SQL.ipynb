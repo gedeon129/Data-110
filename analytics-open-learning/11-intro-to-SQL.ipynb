{
  "cells": [
    {
      "cell_type": "markdown",
      "metadata": {
        "id": "9TscFrof6Blk"
      },
      "source": [
        "# Introduction to SQL"
      ]
    },
    {
      "cell_type": "markdown",
      "source": [],
      "metadata": {
        "id": "9KfGfz2f6izw"
      }
    },
    {
      "cell_type": "markdown",
      "metadata": {
        "id": "cQQeP1CD6Blr"
      },
      "source": [
        "---\n",
        "\n",
        "## ✨ Structured Query Language (SQL)"
      ]
    },
    {
      "cell_type": "code",
      "source": [],
      "metadata": {
        "id": "7RLvRor86m73"
      },
      "execution_count": null,
      "outputs": []
    },
    {
      "cell_type": "markdown",
      "metadata": {
        "id": "--xjdRPK6Blu"
      },
      "source": [
        "---\n",
        "\n",
        "### ❓ Why use SQL? Can't we use Python (Pandas)? 🐼\n",
        "\n",
        "Using Pandas can be easier in many cases unless you're familiar with SQL. Many data science professionals will agree that Pandas is a more human-friendly method ([discussion here](https://datascience.stackexchange.com/questions/34357/why-do-people-prefer-pandas-to-sql)). You can perform the most common operations in SQL with Pandas ([comparison with SQL here](https://pandas.pydata.org/pandas-docs/stable/getting_started/comparison/comparison_with_sql.html)).\n",
        "\n",
        "![Kevin](https://github.com/bdi475/images/blob/main/lecture-notes/sql/kevin-malone-pandas-sql.jpg?raw=true)\n",
        "\n",
        "Huh? When are you supposed to use SQL then? 🤨 You should use SQL when you have a large source of data on a remote location. Pandas works great... until you run out of memory (RAM). When you read data from a source, Pandas loads the entire data into memory by default. Pandas will fail if your data is too large.\n",
        "\n",
        "Instead of loading all data into memory first, you can query a database system and retrieve only the information you need. This is almost always faster and more efficient."
      ]
    },
    {
      "cell_type": "markdown",
      "metadata": {
        "id": "yCm6DTF_6Blv"
      },
      "source": [
        "---\n",
        "\n",
        "## ⚡️ Database Management Systems (DBMS)\n",
        "\n",
        "A database is a collection of data. A database management system is a software used to let users communicate with a database. There are many types of DBMS software. We will only cover relational database management systems (RDBMS). Many popular RDBMS exist, such as:\n",
        "\n",
        "- PostgreSQL\n",
        "- Oracle Database\n",
        "- MySQL\n",
        "- MariaDB (fork of MySQL)\n",
        "- SQLite\n",
        "\n",
        "We will use [SQLite](https://www.sqlite.org/), since it is the easiest one to set up."
      ]
    },
    {
      "cell_type": "markdown",
      "metadata": {
        "id": "eSrHr8gT6Blw"
      },
      "source": [
        "---\n",
        "\n",
        "### ❓ Why use databases? Can't we use CSV files?\n",
        "\n",
        "This discussion is somewhat similar to why we use SQL instead of Pandas. Relational database management systems have existed since the 1970s. They are highly optimized even when your data size is humongous. Of course, the performance is dependent on the *query* you write even if you use an RDBMS.\n",
        "\n",
        "![Boardroom Meeting](https://github.com/bdi475/images/blob/main/lecture-notes/sql/data-storage-boardroom-meeting.jpg?raw=true)"
      ]
    },
    {
      "cell_type": "markdown",
      "metadata": {
        "id": "GXT9OftE6Blx"
      },
      "source": [
        "---\n",
        "\n",
        "## 📗 CRUD Operations Exercise using a graphical tool\n",
        "\n",
        "The most common operations when interacting with a database are often referred to as *CRUD* (Create, Read, Update, Delete)."
      ]
    },
    {
      "cell_type": "markdown",
      "metadata": {
        "id": "47IDgQp66Blx"
      },
      "source": [
        "![CRUD acronym](https://github.com/bdi475/images/blob/25153765dde6ade3d54a48b17825a3dc1923d17e/lecture-notes/sql/crud-abbreviation.png?raw=true)"
      ]
    },
    {
      "cell_type": "markdown",
      "metadata": {
        "id": "BV7YVdon6Bly"
      },
      "source": [
        "Go to [https://sqliteonline.com/](https://sqliteonline.com/) and try out these SQL queries.\n",
        "\n",
        "---\n",
        "**CREATE**: Create `employees` table.\n",
        "\n",
        "```sql\n",
        "CREATE TABLE IF NOT EXISTS employees (\n",
        "  emp_id INTEGER PRIMARY KEY,\n",
        "  name TEXT NOT NULL,\n",
        "  department TEXT,\n",
        "  salary REAL\n",
        ");\n",
        "```\n",
        "\n",
        "---\n",
        "**UPDATE**: Add employees information.\n",
        "\n",
        "```sql\n",
        "INSERT INTO employees (name, department, salary) VALUES ('Mia', 'HR', 140000.0);\n",
        "INSERT INTO employees (name, department, salary) VALUES ('Michael', 'Marketing', 200000.0);\n",
        "INSERT INTO employees (name, department, salary) VALUES ('Sean', 'HR', 250000.0);\n",
        "INSERT INTO employees (name, department, salary) VALUES ('Dylan', 'Marketing', 205000.0);\n",
        "```\n",
        "\n",
        "---\n",
        "**READ**: Select `emp_id` and `name` fields from `employees` table.\n",
        "\n",
        "```sql\n",
        "SELECT emp_id, name\n",
        "FROM employees;\n",
        "```\n",
        "\n",
        "---\n",
        "**READ**: Select `emp_id`, `name`, and `department` fields of HR employees from `employees` table.\n",
        "\n",
        "```sql\n",
        "SELECT emp_id, name, department\n",
        "FROM employees\n",
        "WHERE department = \"HR\";\n",
        "```\n",
        "\n",
        "---\n",
        "**READ**: Select `emp_id`, `name`, and `salary` fields of Marketing employees sorted by `salary` (highest salary first) from `employees` table.\n",
        "\n",
        "```sql\n",
        "SELECT emp_id, name, salary\n",
        "FROM employees\n",
        "WHERE department = \"Marketing\"\n",
        "ORDER BY salary DESC;\n",
        "```\n",
        "\n",
        "---\n",
        "**READ**:  Select all rows and columns from `employees` table.\n",
        "\n",
        "```sql\n",
        "SELECT * FROM employees;\n",
        "```\n",
        "\n",
        "---\n",
        "**DELETE**: Delete all HR employees information\n",
        "\n",
        "```sql\n",
        "DELETE FROM employees WHERE department = \"HR\";\n",
        "```"
      ]
    },
    {
      "cell_type": "markdown",
      "metadata": {
        "id": "Uog1ksLH6Blz"
      },
      "source": [
        "---\n",
        "\n",
        "## 📘 CRUD Operations using Jupyter notebook"
      ]
    },
    {
      "cell_type": "markdown",
      "metadata": {
        "id": "fuax3QUu6Bl0"
      },
      "source": [
        "▶️ First, run the code cell below to import modules used for **🧭 Check Your Work** sections and the autograder."
      ]
    },
    {
      "cell_type": "code",
      "execution_count": null,
      "metadata": {
        "id": "PBEUUXhe6Bl0"
      },
      "outputs": [],
      "source": [
        "import unittest\n",
        "import base64\n",
        "tc = unittest.TestCase()"
      ]
    },
    {
      "cell_type": "markdown",
      "metadata": {
        "id": "7uYhcjIA6Bl2"
      },
      "source": [
        "#### 👇 Tasks\n",
        "\n",
        "- ✔️ Import the following Python packages.\n",
        "    1. `pandas`: Use alias `pd`.\n",
        "    2. `numpy`: Use alias `np`.\n",
        "    3. `sqlite3`: No alias"
      ]
    },
    {
      "cell_type": "code",
      "execution_count": null,
      "metadata": {
        "id": "blfW6azF6Bl3"
      },
      "outputs": [],
      "source": [
        "### BEGIN SOLUTION\n",
        "\n",
        "\n",
        "\n",
        "### END SOLUTION"
      ]
    },
    {
      "cell_type": "markdown",
      "metadata": {
        "id": "gJc9ODit6Bl3"
      },
      "source": [
        "#### 🧭 Check your work"
      ]
    },
    {
      "cell_type": "code",
      "execution_count": null,
      "metadata": {
        "id": "NuUp9e6l6Bl4"
      },
      "outputs": [],
      "source": [
        "import sys\n",
        "tc.assertTrue('pd' in globals(), 'Check whether you have correctly imported Pandas with an alias.')\n",
        "tc.assertTrue('np' in globals(), 'Check whether you have correctly imported NumPy with an alias.')\n",
        "tc.assertTrue('sqlite3' in globals(), 'Check whether you have correctly imported the sqlite3 package.')"
      ]
    },
    {
      "cell_type": "markdown",
      "metadata": {
        "id": "xnnyaR5k6Bl4"
      },
      "source": [
        "---\n",
        "### 🎯 Create a database file and a table"
      ]
    },
    {
      "cell_type": "markdown",
      "metadata": {
        "id": "Z3pSUu4Z6Bl4"
      },
      "source": [
        "▶️ Run the code below to create a new SQLite database file named `airbnb.db` and create a table named `listings`."
      ]
    },
    {
      "cell_type": "code",
      "execution_count": null,
      "metadata": {
        "id": "w6L1mCN36Bl4"
      },
      "outputs": [],
      "source": [
        "# Connect to airbnb.db database file\n",
        "# If the file does not exist, create a new file\n",
        "conn = sqlite3.connect('airbnb.db')\n",
        "\n",
        "# Create a cursor\n",
        "# A cursor enables users of a DBMS to traverse through the result set\n",
        "# without having to retrieve all results at once\n",
        "c = conn.cursor()\n",
        "\n",
        "# Drop (delete) listings table if it already exists\n",
        "c.execute('DROP TABLE IF EXISTS listings')\n",
        "conn.commit()\n",
        "\n",
        "# Define a query\n",
        "# Triple quotes (''') denote multiline strings\n",
        "create_table_query = '''\n",
        "CREATE TABLE IF NOT EXISTS listings (\n",
        "    neighbourhood TEXT,\n",
        "    room_type TEXT,\n",
        "    bathrooms REAL,\n",
        "    bedrooms REAL,\n",
        "    price REAL,\n",
        "    number_of_reviews INTEGER,\n",
        "    review_score REAL,\n",
        "    is_superhost INT\n",
        ")\n",
        "'''\n",
        "\n",
        "c.execute(create_table_query)\n",
        "conn.commit()\n",
        "\n",
        "conn.close()"
      ]
    },
    {
      "cell_type": "markdown",
      "metadata": {
        "id": "Ly2xydba6Bl5"
      },
      "source": [
        "---\n",
        "### 🎯 Populate a database table from a CSV file"
      ]
    },
    {
      "cell_type": "markdown",
      "metadata": {
        "id": "SiGrB2B86Bl5"
      },
      "source": [
        "▶️ Run the code below to create a DataFrame named `df_listings`."
      ]
    },
    {
      "cell_type": "code",
      "execution_count": null,
      "metadata": {
        "id": "lh7ze_TW6Bl5"
      },
      "outputs": [],
      "source": [
        "# DO NOT CHANGE THE CODE IN THIS CELL\n",
        "df_listings = pd.read_csv('https://github.com/UI-Deloitte-business-analytics-center/datasets/raw/main/chicago-airbnb-listings-small.csv')\n",
        "\n",
        "display(df_listings.head(5))"
      ]
    },
    {
      "cell_type": "markdown",
      "metadata": {
        "id": "E1ZNkawQ6Bl5"
      },
      "source": [
        "▶️ Run the code below to populate the `listings` table. All data in `df_listings` will be inserted to the table."
      ]
    },
    {
      "cell_type": "code",
      "execution_count": null,
      "metadata": {
        "id": "mh1ZFvIG6Bl6"
      },
      "outputs": [],
      "source": [
        "# DO NOT CHANGE THE CODE IN THIS CELL\n",
        "conn = sqlite3.connect('airbnb.db')\n",
        "c = conn.cursor()\n",
        "\n",
        "tables = list(pd.read_sql_query('SELECT * FROM sqlite_master WHERE type=\"table\";', con=conn)['tbl_name'])\n",
        "if 'listings' in tables:\n",
        "    c.execute(f'DELETE FROM listings')\n",
        "    conn.commit()\n",
        "\n",
        "df_listings.to_sql(name='listings', index=False, con=conn, if_exists='append')\n",
        "\n",
        "conn.close()"
      ]
    },
    {
      "cell_type": "markdown",
      "metadata": {
        "id": "llirT9m36Bl6"
      },
      "source": [
        "#### 🧭 Check your work"
      ]
    },
    {
      "cell_type": "code",
      "execution_count": null,
      "metadata": {
        "id": "QUDbIsCe6Bl6"
      },
      "outputs": [],
      "source": [
        "# DO NOT CHANGE THE CODE IN THIS CELL\n",
        "import glob\n",
        "import os\n",
        "user_db_files = glob.glob('*.db')\n",
        "\n",
        "# Check if all files exist in the current directory\n",
        "tc.assertTrue('airbnb.db' in user_db_files, f'Check if airbnb.db exists in {os.getcwd()}')\n",
        "\n",
        "conn_checker = sqlite3.connect('airbnb.db')\n",
        "table_to_check = 'listings'\n",
        "\n",
        "# Check if table exists\n",
        "user_tables = list(pd.read_sql_query('SELECT * FROM sqlite_master WHERE type=\"table\";', con=conn_checker)['tbl_name'])\n",
        "tc.assertTrue(table_to_check in user_tables, f'{table_to_check} does not exist in your NWT.db file!')\n",
        "\n",
        "conn_checker.close()"
      ]
    },
    {
      "cell_type": "markdown",
      "metadata": {
        "id": "-Vz50i0v6Bl7"
      },
      "source": [
        "---\n",
        "### 🎯 Exercise 1: Select all rows and columns\n",
        "\n",
        "#### 👇 Tasks\n",
        "\n",
        "- ✔️ Write a query that selects all columns for all rows.\n",
        "- ✔️ Store your query in a new variable named `query_select_all`."
      ]
    },
    {
      "cell_type": "code",
      "execution_count": null,
      "metadata": {
        "id": "3oiC0WEj6Bl7"
      },
      "outputs": [],
      "source": [
        "### BEGIN SOLUTION\n",
        "\n",
        "\n",
        "\n",
        "\n",
        "### END SOLUTION\n",
        "\n",
        "conn = sqlite3.connect('airbnb.db')\n",
        "\n",
        "df_result = pd.read_sql_query(query_select_all, con=conn)\n",
        "display(df_result)\n",
        "\n",
        "conn.close()"
      ]
    },
    {
      "cell_type": "markdown",
      "metadata": {
        "id": "KbkoOu_K6Bl7"
      },
      "source": [
        "#### 🧭 Check your work"
      ]
    },
    {
      "cell_type": "code",
      "execution_count": null,
      "metadata": {
        "nbgrader": {
          "grade": true,
          "grade_id": "exercise-01",
          "locked": true,
          "points": "1",
          "solution": false
        },
        "id": "KVmwEy5h6Bl7"
      },
      "outputs": [],
      "source": [
        "# DO NOT CHANGE THE CODE IN THIS CELL\n",
        "conn = sqlite3.connect('airbnb.db')\n",
        "\n",
        "decoded_query = base64.b64decode(b'ClNFTEVDVCAqIEZST00gbGlzdGluZ3MK').decode()\n",
        "df_check = pd.read_sql_query(decoded_query, con=conn)\n",
        "\n",
        "tc.assertEqual(df_result.shape, df_check.shape, 'Number of rows and/or columns is different')\n",
        "\n",
        "conn.close()"
      ]
    },
    {
      "cell_type": "markdown",
      "metadata": {
        "id": "OitTdKE26Bl8"
      },
      "source": [
        "---\n",
        "### 🎯 Exercise 2: Select only three columns for all rows\n",
        "\n",
        "#### 👇 Tasks\n",
        "\n",
        "- ✔️ Write a query that only the following 3 columns from the `listings` table:\n",
        "    1. `bathrooms`\n",
        "    2. `bedrooms`\n",
        "    3. `price`\n",
        "- ✔️ Store your query in a new variable named `query_select_three_columns`."
      ]
    },
    {
      "cell_type": "code",
      "execution_count": null,
      "metadata": {
        "id": "On5DncPz6Bl8"
      },
      "outputs": [],
      "source": [
        "### BEGIN SOLUTION\n",
        "\n",
        "\n",
        "\n",
        "\n",
        "### END SOLUTION\n",
        "\n",
        "conn = sqlite3.connect('airbnb.db')\n",
        "\n",
        "df_result = pd.read_sql_query(query_select_three_columns, con=conn)\n",
        "display(df_result)\n",
        "\n",
        "conn.close()"
      ]
    },
    {
      "cell_type": "markdown",
      "metadata": {
        "id": "7IGUciWl6Bl8"
      },
      "source": [
        "#### 🧭 Check your work"
      ]
    },
    {
      "cell_type": "code",
      "execution_count": null,
      "metadata": {
        "nbgrader": {
          "grade": true,
          "grade_id": "exercise-02",
          "locked": true,
          "points": "1",
          "solution": false
        },
        "id": "Dg43e8BJ6Bl9"
      },
      "outputs": [],
      "source": [
        "# DO NOT CHANGE THE CODE IN THIS CELL\n",
        "conn = sqlite3.connect('airbnb.db')\n",
        "\n",
        "decoded_query = base64.b64decode(b'ClNFTEVDVCBiYXRocm9vbXMsIGJlZHJvb21zLCBwcmljZSBGUk9NIGxpc3RpbmdzCg==').decode()\n",
        "df_check = pd.read_sql_query(decoded_query, con=conn)\n",
        "\n",
        "tc.assertEqual(df_result.shape, df_check.shape, 'Number of rows and/or columns is different')\n",
        "\n",
        "conn.close()"
      ]
    },
    {
      "cell_type": "markdown",
      "metadata": {
        "id": "pnECSusa6Bl9"
      },
      "source": [
        "---\n",
        "### 🎯 Exercise 3: Select all columns of expensive listings\n",
        "\n",
        "#### 👇 Tasks\n",
        "\n",
        "- ✔️ Write a query that selects all columns of listings with a daily price greater than $400 in the `listings` table:\n",
        "- ✔️ Store your query in a new variable named `query_expensive_listings`."
      ]
    },
    {
      "cell_type": "code",
      "execution_count": null,
      "metadata": {
        "id": "xxCmPwCG6Bl9"
      },
      "outputs": [],
      "source": [
        "### BEGIN SOLUTION\n",
        "\n",
        "\n",
        "\n",
        "\n",
        "\n",
        "### END SOLUTION\n",
        "\n",
        "conn = sqlite3.connect('airbnb.db')\n",
        "\n",
        "df_result = pd.read_sql_query(query_expensive_listings, con=conn)\n",
        "display(df_result)\n",
        "\n",
        "conn.close()"
      ]
    },
    {
      "cell_type": "markdown",
      "metadata": {
        "id": "xhwO7gji6Bl-"
      },
      "source": [
        "#### 🧭 Check your work"
      ]
    },
    {
      "cell_type": "code",
      "execution_count": null,
      "metadata": {
        "nbgrader": {
          "grade": true,
          "grade_id": "exercise-03",
          "locked": true,
          "points": "1",
          "solution": false
        },
        "id": "Omnf9Oks6Bl-"
      },
      "outputs": [],
      "source": [
        "# DO NOT CHANGE THE CODE IN THIS CELL\n",
        "conn = sqlite3.connect('airbnb.db')\n",
        "\n",
        "decoded_query = base64.b64decode(b'ClNFTEVDVCAqCkZST00gTElTVElOR1MKV0hFUkUgcHJpY2UgPiA0MDAK').decode()\n",
        "df_check = pd.read_sql_query(decoded_query, con=conn)\n",
        "\n",
        "tc.assertEqual(df_result.shape, df_check.shape, 'Number of rows and/or columns is different')\n",
        "\n",
        "conn.close()"
      ]
    },
    {
      "cell_type": "markdown",
      "metadata": {
        "id": "Y36568Iq6Bl-"
      },
      "source": [
        "---\n",
        "### 🎯 Exercise 4: Select all columns of West Town listings\n",
        "\n",
        "#### 👇 Tasks\n",
        "\n",
        "- ✔️ Write a query that selects all columns of listings in the \"West Town\" neighbourhood.\n",
        "    - `WHERE neighbourhood = 'West Town'`\n",
        "- ✔️ Store your query in a new variable named `query_west_town_listings`."
      ]
    },
    {
      "cell_type": "code",
      "execution_count": null,
      "metadata": {
        "id": "W6Um9Yph6BmH"
      },
      "outputs": [],
      "source": [
        "### BEGIN SOLUTION\n",
        "\n",
        "\n",
        "\n",
        "\n",
        "\n",
        "### END SOLUTION\n",
        "\n",
        "conn = sqlite3.connect('airbnb.db')\n",
        "\n",
        "df_result = pd.read_sql_query(query_west_town_listings, con=conn)\n",
        "display(df_result)\n",
        "\n",
        "conn.close()"
      ]
    },
    {
      "cell_type": "markdown",
      "metadata": {
        "id": "ycd0tPc-6BmI"
      },
      "source": [
        "#### 🧭 Check your work"
      ]
    },
    {
      "cell_type": "code",
      "execution_count": null,
      "metadata": {
        "nbgrader": {
          "grade": true,
          "grade_id": "exercise-04",
          "locked": true,
          "points": "1",
          "solution": false
        },
        "id": "tV6NjOjn6BmI"
      },
      "outputs": [],
      "source": [
        "# DO NOT CHANGE THE CODE IN THIS CELL\n",
        "conn = sqlite3.connect('airbnb.db')\n",
        "\n",
        "decoded_query = base64.b64decode(b'ClNFTEVDVCAqCkZST00gTElTVElOR1MKV0hFUkUgbmVpZ2hib3VyaG9vZCA9ICdXZXN0IFRvd24nCg==').decode()\n",
        "df_check = pd.read_sql_query(decoded_query, con=conn)\n",
        "\n",
        "tc.assertEqual(df_result.shape, df_check.shape, 'Number of rows and/or columns is different')\n",
        "\n",
        "conn.close()"
      ]
    },
    {
      "cell_type": "markdown",
      "metadata": {
        "id": "xawgyvhS6BmI"
      },
      "source": [
        "---\n",
        "### 🎯 Exercise 5: Sort all listings by price\n",
        "\n",
        "#### 👇 Tasks\n",
        "\n",
        "- ✔️ Write a query that selects all listings and sorts the result by price in ascending order.\n",
        "- ✔️ Store your query in a new variable named `query_sort_by_price`."
      ]
    },
    {
      "cell_type": "code",
      "execution_count": null,
      "metadata": {
        "id": "fhA9e4ZP6BmJ"
      },
      "outputs": [],
      "source": [
        "### BEGIN SOLUTION\n",
        "\n",
        "\n",
        "\n",
        "\n",
        "\n",
        "### END SOLUTION\n",
        "\n",
        "conn = sqlite3.connect('airbnb.db')\n",
        "\n",
        "df_result = pd.read_sql_query(query_sort_by_price, con=conn)\n",
        "display(df_result)\n",
        "\n",
        "conn.close()"
      ]
    },
    {
      "cell_type": "markdown",
      "metadata": {
        "id": "vBMbTall6BmJ"
      },
      "source": [
        "#### 🧭 Check your work"
      ]
    },
    {
      "cell_type": "code",
      "execution_count": null,
      "metadata": {
        "nbgrader": {
          "grade": true,
          "grade_id": "exercise-05",
          "locked": true,
          "points": "1",
          "solution": false
        },
        "id": "P7FOzr7O6BmJ"
      },
      "outputs": [],
      "source": [
        "# DO NOT CHANGE THE CODE IN THIS CELL\n",
        "conn = sqlite3.connect('airbnb.db')\n",
        "\n",
        "decoded_query = base64.b64decode(b'ClNFTEVDVCAqCkZST00gTElTVElOR1MKT1JERVIgQlkgcHJpY2UK').decode()\n",
        "df_check = pd.read_sql_query(decoded_query, con=conn)\n",
        "\n",
        "tc.assertEqual(df_result.shape, df_check.shape, 'Number of rows and/or columns is different')\n",
        "\n",
        "conn.close()"
      ]
    },
    {
      "cell_type": "markdown",
      "metadata": {
        "id": "UECG_WRy6BmK"
      },
      "source": [
        "---\n",
        "### 🎯 Exercise 6: Select only the price column and sort in descending order\n",
        "\n",
        "#### 👇 Tasks\n",
        "\n",
        "- ✔️ Write a query that selects only the price column and sorts the result in descending order.\n",
        "- ✔️ Store your query in a new variable named `query_sort_by_price_desc`."
      ]
    },
    {
      "cell_type": "code",
      "execution_count": null,
      "metadata": {
        "id": "YfP4GnNt6BmK"
      },
      "outputs": [],
      "source": [
        "### BEGIN SOLUTION\n",
        "\n",
        "\n",
        "\n",
        "\n",
        "\n",
        "### END SOLUTION\n",
        "\n",
        "conn = sqlite3.connect('airbnb.db')\n",
        "\n",
        "df_result = pd.read_sql_query(query_sort_by_price_desc, con=conn)\n",
        "display(df_result)\n",
        "\n",
        "conn.close()"
      ]
    },
    {
      "cell_type": "markdown",
      "metadata": {
        "id": "r5s22E9p6BmK"
      },
      "source": [
        "#### 🧭 Check your work"
      ]
    },
    {
      "cell_type": "code",
      "execution_count": null,
      "metadata": {
        "nbgrader": {
          "grade": true,
          "grade_id": "exercise-06",
          "locked": true,
          "points": "1",
          "solution": false
        },
        "id": "WALkuEyh6BmL"
      },
      "outputs": [],
      "source": [
        "# DO NOT CHANGE THE CODE IN THIS CELL\n",
        "conn = sqlite3.connect('airbnb.db')\n",
        "\n",
        "decoded_query = base64.b64decode(b'ClNFTEVDVCBwcmljZQpGUk9NIExJU1RJTkdTCk9SREVSIEJZIHByaWNlIERFU0MK').decode()\n",
        "df_check = pd.read_sql_query(decoded_query, con=conn)\n",
        "\n",
        "tc.assertEqual(df_result.shape, df_check.shape, 'Number of rows and/or columns is different')\n",
        "pd.testing.assert_series_equal(df_result['price'].reset_index(drop=True),\n",
        "                               df_check['price'].reset_index(drop=True))\n",
        "\n",
        "conn.close()"
      ]
    },
    {
      "cell_type": "markdown",
      "metadata": {
        "id": "3I_IvYZI6BmL"
      },
      "source": [
        "---\n",
        "### 🎯 Exercise 7: A more complicated query\n",
        "\n",
        "#### 👇 Tasks\n",
        "\n",
        "- ✔️ Write a query that:\n",
        "    - Selects `room_type`, `bathrooms`, `bedrooms`, `price`, and `number_of_reviews` columns (in the same order).\n",
        "    - Where `price` is less than 100 **AND** the number of reviews is greather than `500`.\n",
        "    - Sorts by `number_of_reviews` in descending order.\n",
        "- ✔️ Store your query in a new variable named `query_final`."
      ]
    },
    {
      "cell_type": "code",
      "execution_count": null,
      "metadata": {
        "id": "D9GUjff46BmL"
      },
      "outputs": [],
      "source": [
        "### BEGIN SOLUTION\n",
        "\n",
        "\n",
        "\n",
        "\n",
        "\n",
        "\n",
        "### END SOLUTION\n",
        "\n",
        "conn = sqlite3.connect('airbnb.db')\n",
        "\n",
        "df_result = pd.read_sql_query(query_final, con=conn)\n",
        "display(df_result)\n",
        "\n",
        "conn.close()"
      ]
    },
    {
      "cell_type": "markdown",
      "metadata": {
        "id": "fRnxnJz46BmM"
      },
      "source": [
        "#### 🧭 Check your work"
      ]
    },
    {
      "cell_type": "code",
      "execution_count": null,
      "metadata": {
        "nbgrader": {
          "grade": true,
          "grade_id": "exercise-07",
          "locked": true,
          "points": "1",
          "solution": false
        },
        "id": "pU3RtJqi6BmM"
      },
      "outputs": [],
      "source": [
        "# DO NOT CHANGE THE CODE IN THIS CELL\n",
        "conn = sqlite3.connect('airbnb.db')\n",
        "\n",
        "decoded_query = base64.b64decode(b'ClNFTEVDVCByb29tX3R5cGUsIGJhdGhyb29tcywgYmVkcm9vbXMsIHByaWNlLCBudW1iZXJfb2ZfcmV2aWV3cwpGUk9NIExJU1RJTkdTCldIRVJFIChwcmljZSA8IDEwMCkgQU5EIChudW1iZXJfb2ZfcmV2aWV3cyA+IDUwMCkKT1JERVIgQlkgbnVtYmVyX29mX3Jldmlld3MgREVTQwo=').decode()\n",
        "df_check = pd.read_sql_query(decoded_query, con=conn)\n",
        "\n",
        "tc.assertEqual(df_result.shape, df_check.shape, 'Number of rows and/or columns is different')\n",
        "pd.testing.assert_frame_equal(df_result.reset_index(drop=True),\n",
        "                               df_check.reset_index(drop=True))\n",
        "\n",
        "conn.close()"
      ]
    }
  ],
  "metadata": {
    "kernelspec": {
      "display_name": "Python 3 (ipykernel)",
      "language": "python",
      "name": "python3"
    },
    "language_info": {
      "codemirror_mode": {
        "name": "ipython",
        "version": 3
      },
      "file_extension": ".py",
      "mimetype": "text/x-python",
      "name": "python",
      "nbconvert_exporter": "python",
      "pygments_lexer": "ipython3",
      "version": "3.8.3"
    },
    "colab": {
      "provenance": []
    }
  },
  "nbformat": 4,
  "nbformat_minor": 0
}