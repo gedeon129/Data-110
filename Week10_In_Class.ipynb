{
  "nbformat": 4,
  "nbformat_minor": 0,
  "metadata": {
    "colab": {
      "private_outputs": true,
      "provenance": [],
      "include_colab_link": true
    },
    "kernelspec": {
      "name": "python3",
      "display_name": "Python 3"
    },
    "language_info": {
      "name": "python"
    }
  },
  "cells": [
    {
      "cell_type": "markdown",
      "metadata": {
        "id": "view-in-github",
        "colab_type": "text"
      },
      "source": [
        "<a href=\"https://colab.research.google.com/github/gedeon129/Data-110/blob/main/Week10_In_Class.ipynb\" target=\"_parent\"><img src=\"https://colab.research.google.com/assets/colab-badge.svg\" alt=\"Open In Colab\"/></a>"
      ]
    },
    {
      "cell_type": "markdown",
      "source": [
        "##  Install Necessary Packages"
      ],
      "metadata": {
        "id": "jvVHm5jEzK8m"
      }
    },
    {
      "cell_type": "code",
      "source": [
        "import matplotlib.pyplot as plt\n",
        "import pandas as pd\n",
        "import numpy as np\n",
        "import seaborn as sns\n"
      ],
      "metadata": {
        "id": "JlndH146v9yC"
      },
      "execution_count": null,
      "outputs": []
    },
    {
      "cell_type": "markdown",
      "source": [
        " # Improt the Dataset: dataMontgomerycountymd.gov"
      ],
      "metadata": {
        "id": "EloM6srRwTab"
      }
    },
    {
      "cell_type": "code",
      "execution_count": null,
      "metadata": {
        "id": "9FnQFBYHu4O0"
      },
      "outputs": [],
      "source": [
        "df=pd.read_csv('https://raw.githubusercontent.com/Reben80/Data110-22016/refs/heads/main/dataset/Daily_Arrests_20241001%20(1).csv')"
      ]
    },
    {
      "cell_type": "markdown",
      "source": [
        "##  Exploring Your Data with Pandas"
      ],
      "metadata": {
        "id": "P7ngb2cPzrFq"
      }
    },
    {
      "cell_type": "code",
      "source": [
        "df.head()\n",
        "df.info()\n",
        "df.describe()"
      ],
      "metadata": {
        "id": "tN4tQv5RwIvj"
      },
      "execution_count": null,
      "outputs": []
    },
    {
      "cell_type": "markdown",
      "source": [
        "# Checking for Missing Data\n",
        "\n",
        "- **`df.isnull().sum()`**: This command is used to check for missing values in the dataset.\n",
        "  - It returns the total count of `NaN` (null) values for each column.\n",
        "  \n",
        "Use this to identify which columns have missing data and how much, which is helpful in the data cleaning process.\n"
      ],
      "metadata": {
        "id": "HsbpjvTL0HW3"
      }
    },
    {
      "cell_type": "code",
      "source": [
        "df.isnull().sum()\n"
      ],
      "metadata": {
        "id": "7PqQwzizzNcl"
      },
      "execution_count": null,
      "outputs": []
    },
    {
      "cell_type": "markdown",
      "source": [
        "## Creating a Histogram of the 'AGE' Column"
      ],
      "metadata": {
        "id": "HE4ww9QX0STU"
      }
    },
    {
      "cell_type": "code",
      "source": [
        "plt.hist(df['AGE'])\n",
        "plt.xlabel('Age')\n",
        "plt.ylabel('Frequency')\n",
        "plt.title('Distribution of Age')\n",
        "plt.show()"
      ],
      "metadata": {
        "id": "INOBFLLe0vC8"
      },
      "execution_count": null,
      "outputs": []
    },
    {
      "cell_type": "code",
      "source": [
        "sns.kdeplot(df['AGE'])"
      ],
      "metadata": {
        "id": "2RFHxIhM081K"
      },
      "execution_count": null,
      "outputs": []
    },
    {
      "cell_type": "code",
      "source": [
        "df.head(30)"
      ],
      "metadata": {
        "id": "52QxbMOj1dlK"
      },
      "execution_count": null,
      "outputs": []
    },
    {
      "cell_type": "markdown",
      "source": [
        "# Correcting Date Format and Adding Day of the Week\n",
        "\n",
        "- **`df['ARREST DATE'] = pd.to_datetime(df['ARREST DATE'])`**: Converts the `ARREST DATE` column to a proper datetime format. This is important to ensure that dates are recognized correctly and can be used for time-based analysis.\n",
        "\n",
        "- **`df['dayOfWeek'] = df['ARREST DATE'].dt.dayofweek`**: Adds a new column `dayOfWeek` to indicate the day of the week for each arrest (`0` for Monday, `6` for Sunday). This helps with understanding patterns related to when most arrests happen.\n",
        "\n",
        "\n"
      ],
      "metadata": {
        "id": "ztk2_Sgq1vyq"
      }
    },
    {
      "cell_type": "code",
      "source": [
        "df['ARREST DATE']=pd.to_datetime(df['ARREST DATE'])\n",
        "df['dayOfWeek']=df['ARREST DATE'].dt.dayofweek\n",
        "df.info()\n",
        "df.describe()"
      ],
      "metadata": {
        "id": "AgBKJ8jv1vgI"
      },
      "execution_count": null,
      "outputs": []
    },
    {
      "cell_type": "markdown",
      "source": [
        "# Visualizing Arrests by Day of the Week"
      ],
      "metadata": {
        "id": "eCa714hT1qsb"
      }
    },
    {
      "cell_type": "code",
      "source": [
        "day_counts=df['dayOfWeek'].value_counts()\n",
        "# Map the day of the week index to its name\n",
        "day_names = ['Monday', 'Tuesday', 'Wednesday', 'Thursday', 'Friday', 'Saturday', 'Sunday']\n",
        "plt.bar(day_counts.index,day_counts)\n"
      ],
      "metadata": {
        "id": "f9Bihff_3dNw"
      },
      "execution_count": null,
      "outputs": []
    },
    {
      "cell_type": "markdown",
      "source": [
        "## Visualizing Arrests by Day of the Week Using a Horizontal Bar Chart"
      ],
      "metadata": {
        "id": "SneazcPa1t6T"
      }
    },
    {
      "cell_type": "code",
      "source": [
        "day_names = ['Monday', 'Tuesday', 'Wednesday', 'Thursday', 'Friday', 'Saturday', 'Sunday']\n",
        "plt.barh(day_names ,day_counts)"
      ],
      "metadata": {
        "id": "JbuGFnv65dET"
      },
      "execution_count": null,
      "outputs": []
    },
    {
      "cell_type": "markdown",
      "source": [
        "## Filtering Arrests Related to Driving Offenses\n",
        "\n",
        "- **`driving_df = df[df['OFFENSE'].str.contains('driving', case=False, na=False)]`**:\n",
        "  - This line of code filters the DataFrame `df` to create a new DataFrame called `driving_df`.\n",
        "  - It includes only rows where the `OFFENSE` column contains the word \"driving\".\n",
        "  - `case=False` means the search is **case-insensitive** (e.g., it will match \"Driving\" and \"driving\").\n",
        "  - `na=False` ensures that missing values (`NaN`) are excluded from the search.\n",
        "\n",
        "This filtered DataFrame, `driving_df`, now contains only records related to driving offenses, which can be used for a focused analysis of crimes involving driving.\n"
      ],
      "metadata": {
        "id": "RShrH6-v1158"
      }
    },
    {
      "cell_type": "code",
      "source": [
        "driving_df=df[df['OFFENSE'].str.contains('driving',case=False,na=False)]\n",
        "driving_df.head()"
      ],
      "metadata": {
        "id": "E33qCb4v6JA9"
      },
      "execution_count": null,
      "outputs": []
    },
    {
      "cell_type": "markdown",
      "source": [
        "# Visualizing Different Driving Offenses\n",
        "\n",
        "\n"
      ],
      "metadata": {
        "id": "R0R2lj9Z2L0g"
      }
    },
    {
      "cell_type": "code",
      "source": [
        "driving_offense_counts=driving_df['OFFENSE'].value_counts()\n",
        "plt.barh(driving_offense_counts.index,driving_offense_counts)"
      ],
      "metadata": {
        "id": "sPjbYVg27uwb"
      },
      "execution_count": null,
      "outputs": []
    },
    {
      "cell_type": "code",
      "source": [
        "plt.pie(driving_offense_counts, labels=driving_offense_counts.index, autopct='%1.1f%%')\n",
        "plt.title('Driving Related Offenses')\n",
        "plt.show()"
      ],
      "metadata": {
        "id": "pr6v-jL58b6S"
      },
      "execution_count": null,
      "outputs": []
    },
    {
      "cell_type": "markdown",
      "source": [
        "## Visualizing Age Distribution for Driving Offenses\n",
        "\n",
        "- **`sns.kdeplot(driving_df['AGE'])`**:\n",
        "  - This creates a **Kernel Density Estimate (KDE)** plot for the `AGE` column in the `driving_df` DataFrame.\n",
        "  - KDE plots are used to visualize the **probability density** of a continuous variable—in this case, the age of individuals involved in driving offenses.\n",
        "  \n",
        "This KDE plot gives insight into the **distribution of ages** for driving-related offenses, allowing us to see if certain age groups are more involved in these incidents.\n"
      ],
      "metadata": {
        "id": "X0VqkMmB2R5E"
      }
    },
    {
      "cell_type": "code",
      "source": [
        "sns.kdeplot(driving_df['AGE'])"
      ],
      "metadata": {
        "id": "L01AR1mh8XcT"
      },
      "execution_count": null,
      "outputs": []
    },
    {
      "cell_type": "code",
      "source": [
        "plt.hist(driving_df['AGE'])"
      ],
      "metadata": {
        "id": "bBYmQOzT9G-j"
      },
      "execution_count": null,
      "outputs": []
    },
    {
      "cell_type": "markdown",
      "source": [
        "__________\n",
        "__________\n"
      ],
      "metadata": {
        "id": "jq8jdXKi2fhM"
      }
    },
    {
      "cell_type": "code",
      "source": [
        "theft_df=df[df['OFFENSE'].str.contains('theft',case=False,na=False)]\n",
        "theft_df.head()"
      ],
      "metadata": {
        "id": "lFlBirZ629t4"
      },
      "execution_count": null,
      "outputs": []
    },
    {
      "cell_type": "markdown",
      "source": [
        "# Assignment: Analyzing Theft-Related Data\n",
        "\n",
        "## Overview\n",
        "In this assignment, you will explore theft-related offenses in the dataset provided. Your goal is to identify patterns, visualize the data, and draw meaningful insights from theft-related incidents.\n",
        "\n",
        "### Objectives\n",
        "- Filter the dataset to focus on theft-related offenses.\n",
        "- Analyze the characteristics of theft incidents, such as time, location, and age.\n",
        "- Create meaningful visualizations to present your findings.\n",
        "\n",
        "\n",
        "\n",
        "### Steps\n",
        "\n",
        "1. **Filter Theft-Related Offenses**\n",
        "   - Filter the dataset to include only rows where the `OFFENSE` column contains the word \"theft\".\n",
        "   - Create a new DataFrame called `theft_df` for this filtered data.\n",
        "\n",
        "\n",
        "2. **Exploratory Data Analysis (EDA)**\n",
        "   \n",
        "   - **Task**: Answer the following questions:\n",
        "     - What is the total number of theft incidents?\n",
        "     - What is the range of ages involved in theft offenses?\n",
        "\n",
        "3. **Visualizing Theft Offenses by Day of the Week**\n",
        "  \n",
        "    \n",
        "   - **Task**: Which day of the week has the highest number of theft arrests? What might be the reasons for this trend?\n",
        "\n",
        "4. **Age Distribution of Theft Offenders**\n",
        "   \n",
        "\n",
        "   - **Task**: Describe the age distribution. Which age group seems to be most involved in theft offenses?\n",
        "\n",
        "\n",
        "\n",
        "5. **Offense Analysis**\n",
        "   - Analyze the types of theft offenses.\n",
        "   - **Task**: Use `value_counts()` on the `OFFENSE` column to find out what kinds of theft are most common. Create a bar chart to visualize this.\n",
        "\n",
        "6. Can you make some other visualizaion related to theft offenses?\n",
        "  \n",
        "\n",
        "\n",
        "\n",
        "\n"
      ],
      "metadata": {
        "id": "c6kTSPir3Jae"
      }
    },
    {
      "cell_type": "code",
      "source": [
        "## Your Code Need to be Here"
      ],
      "metadata": {
        "id": "yewsJutr3I5A"
      },
      "execution_count": null,
      "outputs": []
    }
  ]
}