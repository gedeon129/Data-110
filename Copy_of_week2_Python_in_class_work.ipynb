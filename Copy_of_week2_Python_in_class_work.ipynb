{
  "nbformat": 4,
  "nbformat_minor": 0,
  "metadata": {
    "colab": {
      "private_outputs": true,
      "provenance": [],
      "include_colab_link": true
    },
    "kernelspec": {
      "name": "python3",
      "display_name": "Python 3"
    },
    "language_info": {
      "name": "python"
    }
  },
  "cells": [
    {
      "cell_type": "markdown",
      "metadata": {
        "id": "view-in-github",
        "colab_type": "text"
      },
      "source": [
        "<a href=\"https://colab.research.google.com/github/gedeon129/Data-110/blob/main/Copy_of_week2_Python_in_class_work.ipynb\" target=\"_parent\"><img src=\"https://colab.research.google.com/assets/colab-badge.svg\" alt=\"Open In Colab\"/></a>"
      ]
    },
    {
      "cell_type": "code",
      "execution_count": null,
      "metadata": {
        "id": "DAroNGSu9Gzb"
      },
      "outputs": [],
      "source": [
        "import matplotlib.pyplot as plt\n",
        "import numpy as np\n",
        "import pandas as pd\n"
      ]
    },
    {
      "cell_type": "code",
      "source": [
        "# Load the dataset\n",
        "df = pd.read_csv('/content/happiness_2017.csv')"
      ],
      "metadata": {
        "id": "wvCuhV-AABjG"
      },
      "execution_count": null,
      "outputs": []
    },
    {
      "cell_type": "code",
      "source": [
        "# 1. View the first few rows\n",
        "print(df.head())\n",
        "\n",
        "\n",
        "\n"
      ],
      "metadata": {
        "collapsed": true,
        "id": "vH7Dsr1LATWN"
      },
      "execution_count": null,
      "outputs": []
    },
    {
      "cell_type": "code",
      "source": [
        "# 2. Get summary statistics\n",
        "print(df.describe())\n"
      ],
      "metadata": {
        "id": "EVK57mN4AesS"
      },
      "execution_count": null,
      "outputs": []
    },
    {
      "cell_type": "code",
      "source": [
        "# 3. Check the shape (rows, columns)\n",
        "print(df.shape)"
      ],
      "metadata": {
        "id": "8FB68OzAAgZU"
      },
      "execution_count": null,
      "outputs": []
    },
    {
      "cell_type": "code",
      "source": [
        "\n",
        "# 4. View column names\n",
        "print(df.columns)\n"
      ],
      "metadata": {
        "id": "5ImRfHfTAc-I"
      },
      "execution_count": null,
      "outputs": []
    },
    {
      "cell_type": "code",
      "source": [
        "\n",
        "# 5. Get data types and info\n",
        "print(df.info())\n",
        "\n"
      ],
      "metadata": {
        "id": "5njPiqu5Aj3-"
      },
      "execution_count": null,
      "outputs": []
    },
    {
      "cell_type": "code",
      "source": [
        "\n",
        "\n",
        "\n",
        "# 6. Count unique values in the 'Country' column (or any other relevant column)\n",
        "print(df['Country'].value_counts())"
      ],
      "metadata": {
        "id": "0LaQjSbpAkvy"
      },
      "execution_count": null,
      "outputs": []
    },
    {
      "cell_type": "markdown",
      "source": [
        "### Example 1: Happiness Score vs. Log GDP per Capita"
      ],
      "metadata": {
        "id": "KUDtYH4yB6YB"
      }
    },
    {
      "cell_type": "code",
      "source": [
        "\n",
        "# Scatter plot of Happiness Score vs Log GDP per Capita\n",
        "plt.scatter(df['Log GDP per capita'], df['HappinessScore'])\n",
        "plt.xlabel('Log GDP per Capita')\n",
        "plt.ylabel('Happiness Score')\n",
        "plt.title('Happiness Score vs Log GDP per Capita')\n",
        "plt.show()\n"
      ],
      "metadata": {
        "id": "jvi1MG5EAumR"
      },
      "execution_count": null,
      "outputs": []
    },
    {
      "cell_type": "markdown",
      "source": [
        "### Example 2: Happiness Score vs. Healthy Life Expectancy"
      ],
      "metadata": {
        "id": "H3pweJodB_Y3"
      }
    },
    {
      "cell_type": "code",
      "source": [
        "# Scatter plot of Happiness Score vs Healthy Life Expectancy at Birth\n",
        "plt.scatter(df['Healthy life expectancy at birth'], df['HappinessScore'], color='green')\n",
        "plt.xlabel('Healthy Life Expectancy at Birth')\n",
        "plt.ylabel('Happiness Score')\n",
        "plt.title('Happiness Score vs Healthy Life Expectancy at Birth')\n",
        "plt.show()\n"
      ],
      "metadata": {
        "id": "zCpB-335B3ed"
      },
      "execution_count": null,
      "outputs": []
    },
    {
      "cell_type": "markdown",
      "source": [
        "### Additional Tasks:\n",
        "- **Happiness Score vs Social Support** (`Social support`)\n",
        "- **Happiness Score vs Freedom to Make Life Choices** (`Freedom to make life choices`)\n",
        "- **Happiness Score vs Generosity** (`Generosity`)\n",
        "\n",
        "Update your code using the correct column names based on this.\n",
        "\n",
        "### Extra Task:\n",
        "Create **two scatter plots** using columns that do not have a meaningful relationship. For example, you might plot **Generosity** against **Healthy Life Expectancy**."
      ],
      "metadata": {
        "id": "dXSKLCAWCN0H"
      }
    },
    {
      "cell_type": "code",
      "source": [
        "# Your code related to Happiness Score vs Social Support (Social support) need to be here"
      ],
      "metadata": {
        "id": "U3BjMaVHCjGx"
      },
      "execution_count": null,
      "outputs": []
    },
    {
      "cell_type": "code",
      "source": [
        "print(df.info())"
      ],
      "metadata": {
        "id": "z8zS_ZzWPfZV"
      },
      "execution_count": null,
      "outputs": []
    },
    {
      "cell_type": "code",
      "source": [
        "# Scatter plot of Happiness Score vs social support\n",
        "plt.scatter(df['Social support'], df['HappinessScore'], color='green')\n",
        "plt.xlabel('social support')\n",
        "plt.ylabel('Happiness Score')\n",
        "plt.title('Happiness Score vs social support')\n",
        "plt.show()\n"
      ],
      "metadata": {
        "id": "dRo8hFQiUt4b"
      },
      "execution_count": null,
      "outputs": []
    },
    {
      "cell_type": "code",
      "source": [
        "# Your code related to Happiness Score vs Freedom to Make Life Choices (Freedom to make life choices) need to be here"
      ],
      "metadata": {
        "id": "5kH2OOaGCnih"
      },
      "execution_count": null,
      "outputs": []
    },
    {
      "cell_type": "code",
      "source": [
        "# Scatter plot of Happiness Score vs freedom to make life choices\n",
        "plt.scatter(df['Freedom to make life choices'], df['HappinessScore'], color='green')\n",
        "plt.xlabel('Freedom to Make Life Choices')\n",
        "plt.ylabel('Happiness Score')\n",
        "plt.title('Happiness Score vs Freedom to Make Life Choices')\n",
        "plt.show()\n"
      ],
      "metadata": {
        "id": "gfBD3WPpT36_"
      },
      "execution_count": null,
      "outputs": []
    },
    {
      "cell_type": "code",
      "source": [
        "# Your code related to Happiness Score vs Generosity (Generosity) need to be here"
      ],
      "metadata": {
        "id": "rzNLEuFLCsAW"
      },
      "execution_count": null,
      "outputs": []
    },
    {
      "cell_type": "code",
      "source": [
        "# Scatter plot of Happiness Score vs social support\n",
        "plt.scatter(df['Generosity'], df['HappinessScore'], color='green')\n",
        "plt.xlabel('Generosity')\n",
        "plt.ylabel('Happiness Score')\n",
        "plt.title('Happiness Score vs Generosity')\n",
        "plt.show()"
      ],
      "metadata": {
        "id": "wXlQAsVSWaZm"
      },
      "execution_count": null,
      "outputs": []
    },
    {
      "cell_type": "code",
      "source": [
        "\n",
        "# Scatter plot of  Positive affect vs Log GDP per Capita\n",
        "plt.scatter(df['Log GDP per capita'], df['Positive affect'])\n",
        "plt.xlabel('Log GDP per Capita')\n",
        "plt.ylabel('Positive affect')\n",
        "plt.title('Positive affect vs Log GDP per Capita')\n",
        "plt.show()"
      ],
      "metadata": {
        "id": "7Fzp_JDiXpcZ"
      },
      "execution_count": null,
      "outputs": []
    },
    {
      "cell_type": "code",
      "source": [
        "# Extra Task 2 code"
      ],
      "metadata": {
        "id": "uDAXQVa9C0yE"
      },
      "execution_count": null,
      "outputs": []
    },
    {
      "cell_type": "code",
      "source": [],
      "metadata": {
        "id": "HgLkrQNKaK1J"
      },
      "execution_count": null,
      "outputs": []
    },
    {
      "cell_type": "code",
      "source": [
        "# Scatter plot of 'Negative affect vs Healthy Life Expectancy at Birth\n",
        "plt.scatter(df['Healthy life expectancy at birth'], df['Negative affect'], color='green')\n",
        "plt.xlabel('Healthy Life Expectancy at Birth')\n",
        "plt.ylabel('Negative affect')\n",
        "plt.title('Negative affect vs Healthy Life Expectancy at Birth')\n",
        "plt.show()"
      ],
      "metadata": {
        "id": "aGPFFGlrZsPn"
      },
      "execution_count": null,
      "outputs": []
    },
    {
      "cell_type": "code",
      "source": [
        "# Scatter plot of  Rank Score vs freedom to make life choices\n",
        "plt.scatter(df['Freedom to make life choices'], df['Rank'], color='green')\n",
        "plt.xlabel('Freedom to Make Life Choices')\n",
        "plt.ylabel( 'Rank')\n",
        "plt.title(' Rank vs Freedom to Make Life Choices')\n",
        "plt.show()"
      ],
      "metadata": {
        "id": "wDweQVBjVWEi"
      },
      "execution_count": null,
      "outputs": []
    }
  ]
}