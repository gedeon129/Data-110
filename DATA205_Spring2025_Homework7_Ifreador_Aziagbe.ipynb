{
  "nbformat": 4,
  "nbformat_minor": 0,
  "metadata": {
    "colab": {
      "provenance": [],
      "authorship_tag": "ABX9TyNmgPI3vkLV+ffSmGTkhJZA",
      "include_colab_link": true
    },
    "kernelspec": {
      "name": "python3",
      "display_name": "Python 3"
    },
    "language_info": {
      "name": "python"
    }
  },
  "cells": [
    {
      "cell_type": "markdown",
      "metadata": {
        "id": "view-in-github",
        "colab_type": "text"
      },
      "source": [
        "<a href=\"https://colab.research.google.com/github/gedeon129/Data-110/blob/main/DATA205_Spring2025_Homework7_Ifreador_Aziagbe.ipynb\" target=\"_parent\"><img src=\"https://colab.research.google.com/assets/colab-badge.svg\" alt=\"Open In Colab\"/></a>"
      ]
    },
    {
      "cell_type": "code",
      "source": [
        "\n"
      ],
      "metadata": {
        "id": "30FmfJeiNlYV"
      },
      "execution_count": null,
      "outputs": []
    },
    {
      "cell_type": "code",
      "source": [],
      "metadata": {
        "id": "l58xNme4gWI7"
      },
      "execution_count": null,
      "outputs": []
    },
    {
      "cell_type": "code",
      "source": [
        "import pandas as pd\n",
        "import numpy as np\n",
        "import sqlite3\n"
      ],
      "metadata": {
        "collapsed": true,
        "id": "50lvf22qizkN"
      },
      "execution_count": 7,
      "outputs": []
    },
    {
      "cell_type": "markdown",
      "source": [
        "# New Section"
      ],
      "metadata": {
        "id": "3A2jrZB0AaHe"
      }
    },
    {
      "cell_type": "markdown",
      "source": [
        "Part A: Creating a SQL database"
      ],
      "metadata": {
        "id": "eNiV7AlAGekC"
      }
    },
    {
      "cell_type": "code",
      "source": [
        "\n",
        "\n",
        "# The variable should be assigned first before using it for other operations\n",
        "athlete_events_df = pd.read_csv('/content/athlete_events.csv', on_bad_lines='skip')\n",
        "print(athlete_events_df.info())\n",
        "display(athlete_events_df.head( )) # Display the DataFrame"
      ],
      "metadata": {
        "colab": {
          "base_uri": "https://localhost:8080/",
          "height": 351
        },
        "id": "ocZsEQhdpnSs",
        "outputId": "1bc13497-178e-4329-dc66-16b040de6c01"
      },
      "execution_count": 8,
      "outputs": [
        {
          "output_type": "error",
          "ename": "FileNotFoundError",
          "evalue": "[Errno 2] No such file or directory: '/content/athlete_events.csv'",
          "traceback": [
            "\u001b[0;31m---------------------------------------------------------------------------\u001b[0m",
            "\u001b[0;31mFileNotFoundError\u001b[0m                         Traceback (most recent call last)",
            "\u001b[0;32m<ipython-input-8-ed7d5b52dfca>\u001b[0m in \u001b[0;36m<cell line: 0>\u001b[0;34m()\u001b[0m\n\u001b[1;32m      1\u001b[0m \u001b[0;31m# The variable should be assigned first before using it for other operations\u001b[0m\u001b[0;34m\u001b[0m\u001b[0;34m\u001b[0m\u001b[0m\n\u001b[0;32m----> 2\u001b[0;31m \u001b[0mathlete_events_df\u001b[0m \u001b[0;34m=\u001b[0m \u001b[0mpd\u001b[0m\u001b[0;34m.\u001b[0m\u001b[0mread_csv\u001b[0m\u001b[0;34m(\u001b[0m\u001b[0;34m'/content/athlete_events.csv'\u001b[0m\u001b[0;34m,\u001b[0m \u001b[0mon_bad_lines\u001b[0m\u001b[0;34m=\u001b[0m\u001b[0;34m'skip'\u001b[0m\u001b[0;34m)\u001b[0m\u001b[0;34m\u001b[0m\u001b[0;34m\u001b[0m\u001b[0m\n\u001b[0m\u001b[1;32m      3\u001b[0m \u001b[0mprint\u001b[0m\u001b[0;34m(\u001b[0m\u001b[0mathlete_events_df\u001b[0m\u001b[0;34m.\u001b[0m\u001b[0minfo\u001b[0m\u001b[0;34m(\u001b[0m\u001b[0;34m)\u001b[0m\u001b[0;34m)\u001b[0m\u001b[0;34m\u001b[0m\u001b[0;34m\u001b[0m\u001b[0m\n\u001b[1;32m      4\u001b[0m \u001b[0mdisplay\u001b[0m\u001b[0;34m(\u001b[0m\u001b[0mathlete_events_df\u001b[0m\u001b[0;34m.\u001b[0m\u001b[0mhead\u001b[0m\u001b[0;34m(\u001b[0m \u001b[0;34m)\u001b[0m\u001b[0;34m)\u001b[0m \u001b[0;31m# Display the DataFrame\u001b[0m\u001b[0;34m\u001b[0m\u001b[0;34m\u001b[0m\u001b[0m\n",
            "\u001b[0;32m/usr/local/lib/python3.11/dist-packages/pandas/io/parsers/readers.py\u001b[0m in \u001b[0;36mread_csv\u001b[0;34m(filepath_or_buffer, sep, delimiter, header, names, index_col, usecols, dtype, engine, converters, true_values, false_values, skipinitialspace, skiprows, skipfooter, nrows, na_values, keep_default_na, na_filter, verbose, skip_blank_lines, parse_dates, infer_datetime_format, keep_date_col, date_parser, date_format, dayfirst, cache_dates, iterator, chunksize, compression, thousands, decimal, lineterminator, quotechar, quoting, doublequote, escapechar, comment, encoding, encoding_errors, dialect, on_bad_lines, delim_whitespace, low_memory, memory_map, float_precision, storage_options, dtype_backend)\u001b[0m\n\u001b[1;32m   1024\u001b[0m     \u001b[0mkwds\u001b[0m\u001b[0;34m.\u001b[0m\u001b[0mupdate\u001b[0m\u001b[0;34m(\u001b[0m\u001b[0mkwds_defaults\u001b[0m\u001b[0;34m)\u001b[0m\u001b[0;34m\u001b[0m\u001b[0;34m\u001b[0m\u001b[0m\n\u001b[1;32m   1025\u001b[0m \u001b[0;34m\u001b[0m\u001b[0m\n\u001b[0;32m-> 1026\u001b[0;31m     \u001b[0;32mreturn\u001b[0m \u001b[0m_read\u001b[0m\u001b[0;34m(\u001b[0m\u001b[0mfilepath_or_buffer\u001b[0m\u001b[0;34m,\u001b[0m \u001b[0mkwds\u001b[0m\u001b[0;34m)\u001b[0m\u001b[0;34m\u001b[0m\u001b[0;34m\u001b[0m\u001b[0m\n\u001b[0m\u001b[1;32m   1027\u001b[0m \u001b[0;34m\u001b[0m\u001b[0m\n\u001b[1;32m   1028\u001b[0m \u001b[0;34m\u001b[0m\u001b[0m\n",
            "\u001b[0;32m/usr/local/lib/python3.11/dist-packages/pandas/io/parsers/readers.py\u001b[0m in \u001b[0;36m_read\u001b[0;34m(filepath_or_buffer, kwds)\u001b[0m\n\u001b[1;32m    618\u001b[0m \u001b[0;34m\u001b[0m\u001b[0m\n\u001b[1;32m    619\u001b[0m     \u001b[0;31m# Create the parser.\u001b[0m\u001b[0;34m\u001b[0m\u001b[0;34m\u001b[0m\u001b[0m\n\u001b[0;32m--> 620\u001b[0;31m     \u001b[0mparser\u001b[0m \u001b[0;34m=\u001b[0m \u001b[0mTextFileReader\u001b[0m\u001b[0;34m(\u001b[0m\u001b[0mfilepath_or_buffer\u001b[0m\u001b[0;34m,\u001b[0m \u001b[0;34m**\u001b[0m\u001b[0mkwds\u001b[0m\u001b[0;34m)\u001b[0m\u001b[0;34m\u001b[0m\u001b[0;34m\u001b[0m\u001b[0m\n\u001b[0m\u001b[1;32m    621\u001b[0m \u001b[0;34m\u001b[0m\u001b[0m\n\u001b[1;32m    622\u001b[0m     \u001b[0;32mif\u001b[0m \u001b[0mchunksize\u001b[0m \u001b[0;32mor\u001b[0m \u001b[0miterator\u001b[0m\u001b[0;34m:\u001b[0m\u001b[0;34m\u001b[0m\u001b[0;34m\u001b[0m\u001b[0m\n",
            "\u001b[0;32m/usr/local/lib/python3.11/dist-packages/pandas/io/parsers/readers.py\u001b[0m in \u001b[0;36m__init__\u001b[0;34m(self, f, engine, **kwds)\u001b[0m\n\u001b[1;32m   1618\u001b[0m \u001b[0;34m\u001b[0m\u001b[0m\n\u001b[1;32m   1619\u001b[0m         \u001b[0mself\u001b[0m\u001b[0;34m.\u001b[0m\u001b[0mhandles\u001b[0m\u001b[0;34m:\u001b[0m \u001b[0mIOHandles\u001b[0m \u001b[0;34m|\u001b[0m \u001b[0;32mNone\u001b[0m \u001b[0;34m=\u001b[0m \u001b[0;32mNone\u001b[0m\u001b[0;34m\u001b[0m\u001b[0;34m\u001b[0m\u001b[0m\n\u001b[0;32m-> 1620\u001b[0;31m         \u001b[0mself\u001b[0m\u001b[0;34m.\u001b[0m\u001b[0m_engine\u001b[0m \u001b[0;34m=\u001b[0m \u001b[0mself\u001b[0m\u001b[0;34m.\u001b[0m\u001b[0m_make_engine\u001b[0m\u001b[0;34m(\u001b[0m\u001b[0mf\u001b[0m\u001b[0;34m,\u001b[0m \u001b[0mself\u001b[0m\u001b[0;34m.\u001b[0m\u001b[0mengine\u001b[0m\u001b[0;34m)\u001b[0m\u001b[0;34m\u001b[0m\u001b[0;34m\u001b[0m\u001b[0m\n\u001b[0m\u001b[1;32m   1621\u001b[0m \u001b[0;34m\u001b[0m\u001b[0m\n\u001b[1;32m   1622\u001b[0m     \u001b[0;32mdef\u001b[0m \u001b[0mclose\u001b[0m\u001b[0;34m(\u001b[0m\u001b[0mself\u001b[0m\u001b[0;34m)\u001b[0m \u001b[0;34m->\u001b[0m \u001b[0;32mNone\u001b[0m\u001b[0;34m:\u001b[0m\u001b[0;34m\u001b[0m\u001b[0;34m\u001b[0m\u001b[0m\n",
            "\u001b[0;32m/usr/local/lib/python3.11/dist-packages/pandas/io/parsers/readers.py\u001b[0m in \u001b[0;36m_make_engine\u001b[0;34m(self, f, engine)\u001b[0m\n\u001b[1;32m   1878\u001b[0m                 \u001b[0;32mif\u001b[0m \u001b[0;34m\"b\"\u001b[0m \u001b[0;32mnot\u001b[0m \u001b[0;32min\u001b[0m \u001b[0mmode\u001b[0m\u001b[0;34m:\u001b[0m\u001b[0;34m\u001b[0m\u001b[0;34m\u001b[0m\u001b[0m\n\u001b[1;32m   1879\u001b[0m                     \u001b[0mmode\u001b[0m \u001b[0;34m+=\u001b[0m \u001b[0;34m\"b\"\u001b[0m\u001b[0;34m\u001b[0m\u001b[0;34m\u001b[0m\u001b[0m\n\u001b[0;32m-> 1880\u001b[0;31m             self.handles = get_handle(\n\u001b[0m\u001b[1;32m   1881\u001b[0m                 \u001b[0mf\u001b[0m\u001b[0;34m,\u001b[0m\u001b[0;34m\u001b[0m\u001b[0;34m\u001b[0m\u001b[0m\n\u001b[1;32m   1882\u001b[0m                 \u001b[0mmode\u001b[0m\u001b[0;34m,\u001b[0m\u001b[0;34m\u001b[0m\u001b[0;34m\u001b[0m\u001b[0m\n",
            "\u001b[0;32m/usr/local/lib/python3.11/dist-packages/pandas/io/common.py\u001b[0m in \u001b[0;36mget_handle\u001b[0;34m(path_or_buf, mode, encoding, compression, memory_map, is_text, errors, storage_options)\u001b[0m\n\u001b[1;32m    871\u001b[0m         \u001b[0;32mif\u001b[0m \u001b[0mioargs\u001b[0m\u001b[0;34m.\u001b[0m\u001b[0mencoding\u001b[0m \u001b[0;32mand\u001b[0m \u001b[0;34m\"b\"\u001b[0m \u001b[0;32mnot\u001b[0m \u001b[0;32min\u001b[0m \u001b[0mioargs\u001b[0m\u001b[0;34m.\u001b[0m\u001b[0mmode\u001b[0m\u001b[0;34m:\u001b[0m\u001b[0;34m\u001b[0m\u001b[0;34m\u001b[0m\u001b[0m\n\u001b[1;32m    872\u001b[0m             \u001b[0;31m# Encoding\u001b[0m\u001b[0;34m\u001b[0m\u001b[0;34m\u001b[0m\u001b[0m\n\u001b[0;32m--> 873\u001b[0;31m             handle = open(\n\u001b[0m\u001b[1;32m    874\u001b[0m                 \u001b[0mhandle\u001b[0m\u001b[0;34m,\u001b[0m\u001b[0;34m\u001b[0m\u001b[0;34m\u001b[0m\u001b[0m\n\u001b[1;32m    875\u001b[0m                 \u001b[0mioargs\u001b[0m\u001b[0;34m.\u001b[0m\u001b[0mmode\u001b[0m\u001b[0;34m,\u001b[0m\u001b[0;34m\u001b[0m\u001b[0;34m\u001b[0m\u001b[0m\n",
            "\u001b[0;31mFileNotFoundError\u001b[0m: [Errno 2] No such file or directory: '/content/athlete_events.csv'"
          ]
        }
      ]
    },
    {
      "cell_type": "code",
      "source": [
        "host_city_locations_df= pd.read_csv('/content/host_city_locations.csv', on_bad_lines='skip')\n",
        "host_city_locations_df.info()\n",
        "host_city_locations_df.head()"
      ],
      "metadata": {
        "collapsed": true,
        "id": "RGBMXuC6KzyL"
      },
      "execution_count": null,
      "outputs": []
    },
    {
      "cell_type": "code",
      "source": [
        "# Create a connection to the SQLite database\n",
        "conn = sqlite3.connect('olympics.db')\n",
        "\n",
        "c = conn.cursor()\n",
        "c.execute('DROP TABLE IF EXISTS athlete_events')\n",
        "conn.commit()\n",
        "\n",
        "# Define a query\n",
        "# Triple quotes (''') denote multiline strings\n",
        "create_table_query = '''\n",
        "CREATE TABLE IF NOT EXISTS athlete_events (\n",
        "    ID INT,\n",
        "    Name TEXT,\n",
        "    Sex TEXT,\n",
        "    Age INT,\n",
        "    Height REAL,\n",
        "    Weight REAL,\n",
        "    Team TEXT,\n",
        "    NOC TEXT,\n",
        "    Games TEXT,\n",
        "    Year INT,\n",
        "    Season TEXT,\n",
        "    City TEXT,\n",
        "    Sport TEXT,\n",
        "    Event TEXT,\n",
        "    Medal TEXT\n",
        ")\n",
        "'''\n",
        "\n",
        "c.execute(create_table_query)\n",
        "conn.commit()\n",
        "conn.close()"
      ],
      "metadata": {
        "id": "37SapYjgQjW7",
        "outputId": "007eb9ec-57a5-4651-9223-7efc3c771d03",
        "colab": {
          "base_uri": "https://localhost:8080/",
          "height": 219
        }
      },
      "execution_count": 2,
      "outputs": [
        {
          "output_type": "error",
          "ename": "NameError",
          "evalue": "name 'sqlite3' is not defined",
          "traceback": [
            "\u001b[0;31m---------------------------------------------------------------------------\u001b[0m",
            "\u001b[0;31mNameError\u001b[0m                                 Traceback (most recent call last)",
            "\u001b[0;32m<ipython-input-2-efde62d6e929>\u001b[0m in \u001b[0;36m<cell line: 0>\u001b[0;34m()\u001b[0m\n\u001b[1;32m      1\u001b[0m \u001b[0;31m# Create a connection to the SQLite database\u001b[0m\u001b[0;34m\u001b[0m\u001b[0;34m\u001b[0m\u001b[0m\n\u001b[0;32m----> 2\u001b[0;31m \u001b[0mconn\u001b[0m \u001b[0;34m=\u001b[0m \u001b[0msqlite3\u001b[0m\u001b[0;34m.\u001b[0m\u001b[0mconnect\u001b[0m\u001b[0;34m(\u001b[0m\u001b[0;34m'olympics.db'\u001b[0m\u001b[0;34m)\u001b[0m\u001b[0;34m\u001b[0m\u001b[0;34m\u001b[0m\u001b[0m\n\u001b[0m\u001b[1;32m      3\u001b[0m \u001b[0;34m\u001b[0m\u001b[0m\n\u001b[1;32m      4\u001b[0m \u001b[0mc\u001b[0m \u001b[0;34m=\u001b[0m \u001b[0mconn\u001b[0m\u001b[0;34m.\u001b[0m\u001b[0mcursor\u001b[0m\u001b[0;34m(\u001b[0m\u001b[0;34m)\u001b[0m\u001b[0;34m\u001b[0m\u001b[0;34m\u001b[0m\u001b[0m\n\u001b[1;32m      5\u001b[0m \u001b[0mc\u001b[0m\u001b[0;34m.\u001b[0m\u001b[0mexecute\u001b[0m\u001b[0;34m(\u001b[0m\u001b[0;34m'DROP TABLE IF EXISTS athlete_events'\u001b[0m\u001b[0;34m)\u001b[0m\u001b[0;34m\u001b[0m\u001b[0;34m\u001b[0m\u001b[0m\n",
            "\u001b[0;31mNameError\u001b[0m: name 'sqlite3' is not defined"
          ]
        }
      ]
    },
    {
      "cell_type": "code",
      "source": [],
      "metadata": {
        "id": "v9ibMD0xQu-T"
      },
      "execution_count": null,
      "outputs": []
    },
    {
      "cell_type": "markdown",
      "source": [
        "Part a : Creating A SQL  database"
      ],
      "metadata": {
        "id": "YF0bIw-9tWt7"
      }
    },
    {
      "cell_type": "markdown",
      "source": [
        "A"
      ],
      "metadata": {
        "id": "aVrEtlQWLUUG"
      }
    },
    {
      "cell_type": "code",
      "source": [],
      "metadata": {
        "id": "-U4UoycOKtdH"
      },
      "execution_count": null,
      "outputs": []
    },
    {
      "cell_type": "code",
      "source": [
        "# Create (or connect to) the SQLite database\n",
        "conn = sqlite3.connect(\"olympics.db\")\n",
        "\n",
        "# Create a cursor object\n",
        "cursor = conn.cursor()\n",
        "# Create the host_city_locations table\n",
        "cursor.execute('''\n",
        "CREATE TABLE IF NOT EXISTS host_city_locations (\n",
        "    city TEXT PRIMARY KEY,\n",
        "    country TEXT,\n",
        "    latitude REAL,\n",
        "    longitude REAL\n",
        ");\n",
        "''')\n",
        "\n",
        "c.execute\n",
        "conn.commit()\n",
        "conn.close()"
      ],
      "metadata": {
        "id": "2LBb4hRwrVg8"
      },
      "execution_count": null,
      "outputs": []
    },
    {
      "cell_type": "code",
      "source": [
        "\n",
        "\n",
        "# Connect to the database\n",
        "conn = sqlite3.connect(\"olympics.db\")\n",
        "\n",
        "# Load DataFrame into SQLite\n",
        "athlete_events_df.to_sql(\"athlete_events\", conn, if_exists=\"replace\", index=False)\n",
        "\n",
        "conn.close()\n",
        "\n",
        "print(\"Data successfully loaded into athlete_events table.\")\n"
      ],
      "metadata": {
        "colab": {
          "base_uri": "https://localhost:8080/"
        },
        "id": "nzS-nr-bYZ5K",
        "outputId": "20a939f4-10bf-4490-b7bc-347c3bc687e5"
      },
      "execution_count": null,
      "outputs": [
        {
          "output_type": "stream",
          "name": "stdout",
          "text": [
            "Data successfully loaded into athlete_events table.\n"
          ]
        }
      ]
    },
    {
      "cell_type": "markdown",
      "source": [
        "B\n",
        "1.\tHow many records are in athlete events?\n"
      ],
      "metadata": {
        "id": "JxlAvEAL-5l4"
      }
    },
    {
      "cell_type": "markdown",
      "source": [
        "How many different athletes competed in Olympics held in London?"
      ],
      "metadata": {
        "id": "Psd4GizMMDQ1"
      }
    },
    {
      "cell_type": "code",
      "source": [
        "conn = sqlite3.connect(\"olympics.db\")\n",
        "\n",
        "query = \"SELECT COUNT(*) FROM athlete_events\"\n",
        "count = pd.read_sql(query, conn)\n",
        "\n",
        "conn.close()\n",
        "\n",
        "print(\"Total records in athlete_events:\", count.iloc[0, 0])\n"
      ],
      "metadata": {
        "id": "XJ49P8SPXuyw",
        "colab": {
          "base_uri": "https://localhost:8080/"
        },
        "outputId": "d8f9b4e9-d23f-476f-f1b9-5ff0aecd2691"
      },
      "execution_count": null,
      "outputs": [
        {
          "output_type": "stream",
          "name": "stdout",
          "text": [
            "Total records in athlete_events: 271116\n"
          ]
        }
      ]
    },
    {
      "cell_type": "markdown",
      "source": [
        "2.\tHow many different athletes competed in Olympics held in London?"
      ],
      "metadata": {
        "id": "1LBczTsGYBGM"
      }
    },
    {
      "cell_type": "code",
      "source": [
        "\n",
        "conn = sqlite3.connect(\"olympics.db\")\n",
        "query = \"\"\"\n",
        "SELECT COUNT(DISTINCT Name)\n",
        "FROM athlete_events\n",
        "WHERE [City] = 'London';\n",
        "\"\"\"\n",
        "\n",
        "display = pd.read_sql(query, con=conn)\n",
        "\n",
        "print(display)\n",
        "\n",
        "#Close the connection\n",
        "conn.close()"
      ],
      "metadata": {
        "id": "I_X7xhKvaWTW",
        "colab": {
          "base_uri": "https://localhost:8080/"
        },
        "outputId": "2b1df375-f921-4db6-c03d-69c02fdbccc2"
      },
      "execution_count": null,
      "outputs": [
        {
          "output_type": "stream",
          "name": "stdout",
          "text": [
            "   COUNT(DISTINCT Name)\n",
            "0                 16924\n"
          ]
        }
      ]
    },
    {
      "cell_type": "markdown",
      "source": [
        "3/ Which Olympics host city is furthest north?"
      ],
      "metadata": {
        "id": "7FgvFfWFa5_A"
      }
    },
    {
      "cell_type": "code",
      "source": [
        "olympic_query = \"\"\"\n",
        "SELECT MAX(lat), City\n",
        "FROM host_city_locations;\n",
        "\"\"\"\n",
        "\n",
        "with sqlite3.connect(\"olympics.db\") as conn:\n",
        "    olympic_query_result = pd.read_sql_query(olympic_query, conn)\n",
        "    # The built-in display function is replaced with 'display' variable which is of type DataFrame.\n",
        "    # Instead of calling display function print is used to display the dataframe.\n",
        "    print(olympic_query_result)\n",
        "    print(f'{olympic_query_result.iloc[0, 1]} is the northersnmost city ({round(olympic_query_result.iloc[0,0])})')"
      ],
      "metadata": {
        "colab": {
          "base_uri": "https://localhost:8080/"
        },
        "id": "b0DE2t_K9hXQ",
        "outputId": "4fb3d5a4-2032-4c3e-c5c0-e6b0147891d3"
      },
      "execution_count": null,
      "outputs": [
        {
          "output_type": "stream",
          "name": "stdout",
          "text": [
            "    MAX(lat)         City\n",
            "0  61.115271  Lillehammer\n",
            "Lillehammer is the northersnmost city (61)\n"
          ]
        }
      ]
    },
    {
      "cell_type": "markdown",
      "source": [
        "4/  List of all unique host cities"
      ],
      "metadata": {
        "id": "0fNVCXcZcGkQ"
      }
    },
    {
      "cell_type": "markdown",
      "source": [
        "What is the list of host cities (with no duplicates)?"
      ],
      "metadata": {
        "id": "x_WUuzZ5TOch"
      }
    },
    {
      "cell_type": "code",
      "source": [
        "\n",
        "conn = sqlite3.connect(\"olympics.db\")\n",
        "query = \"\"\"\n",
        "SELECT DISTINCT City FROM host_city_locations\n",
        "\"\"\"\n",
        "result = pd.read_sql(query, con=conn)\n",
        "print(result)"
      ],
      "metadata": {
        "id": "TmmKGh8vcOHf",
        "colab": {
          "base_uri": "https://localhost:8080/"
        },
        "outputId": "4c7849f8-f271-4fa0-f808-31f13732c45d"
      },
      "execution_count": null,
      "outputs": [
        {
          "output_type": "stream",
          "name": "stdout",
          "text": [
            "                      City\n",
            "0                   Athina\n",
            "1                    Paris\n",
            "2                St. Louis\n",
            "3                   London\n",
            "4                Stockholm\n",
            "5                Antwerpen\n",
            "6                 Chamonix\n",
            "7                Amsterdam\n",
            "8             Sankt Moritz\n",
            "9              Los Angeles\n",
            "10             Lake Placid\n",
            "11                  Berlin\n",
            "12  Garmisch-Partenkirchen\n",
            "13                Helsinki\n",
            "14                    Oslo\n",
            "15       Cortina d'Ampezzo\n",
            "16               Melbourne\n",
            "17            Squaw Valley\n",
            "18                    Roma\n",
            "19               Innsbruck\n",
            "20                   Tokyo\n",
            "21             Mexico City\n",
            "22                Grenoble\n",
            "23                  Munich\n",
            "24                 Sapporo\n",
            "25                Montreal\n",
            "26                  Moskva\n",
            "27                Sarajevo\n",
            "28                 Calgary\n",
            "29                   Seoul\n",
            "30               Barcelona\n",
            "31             Albertville\n",
            "32             Lillehammer\n",
            "33                 Atlanta\n",
            "34                  Nagano\n",
            "35                  Sydney\n",
            "36          Salt Lake City\n",
            "37                  Torino\n",
            "38                 Beijing\n",
            "39               Vancouver\n",
            "40                   Sochi\n",
            "41          Rio de Janeiro\n"
          ]
        }
      ]
    },
    {
      "cell_type": "code",
      "source": [
        "# Close the connection\n",
        "conn.close()"
      ],
      "metadata": {
        "id": "MfzulNqWijdd"
      },
      "execution_count": null,
      "outputs": []
    }
  ]
}